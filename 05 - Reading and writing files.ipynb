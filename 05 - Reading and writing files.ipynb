{
 "cells": [
  {
   "cell_type": "markdown",
   "metadata": {},
   "source": [
    "# Reading and writing files"
   ]
  },
  {
   "cell_type": "markdown",
   "metadata": {},
   "source": [
    "Reading: the entire file, line by line, splitted by lines (with and without `\\n`)"
   ]
  },
  {
   "cell_type": "code",
   "execution_count": 5,
   "metadata": {},
   "outputs": [
    {
     "name": "stdout",
     "output_type": "stream",
     "text": [
      "North 100\r\n",
      "East 200\r\n",
      "South 20\r\n",
      "East 50\r\n",
      "North 100\r\n",
      "West 30\r\n"
     ]
    }
   ],
   "source": [
    "!cat data/robot_journey.txt"
   ]
  },
  {
   "cell_type": "code",
   "execution_count": 9,
   "metadata": {},
   "outputs": [
    {
     "name": "stdout",
     "output_type": "stream",
     "text": [
      "North 100\n",
      "East 200\n",
      "South 20\n",
      "East 50\n",
      "North 100\n",
      "West 30\n",
      "\n"
     ]
    }
   ],
   "source": [
    "with open('data/robot_journey.txt') as f:\n",
    "    print(f.read())"
   ]
  },
  {
   "cell_type": "markdown",
   "metadata": {},
   "source": [
    "Writing files and appending to file"
   ]
  },
  {
   "cell_type": "code",
   "execution_count": 10,
   "metadata": {},
   "outputs": [],
   "source": [
    "with open('temp.txt', 'w') as f:\n",
    "    f.write('hello world\\n')"
   ]
  },
  {
   "cell_type": "code",
   "execution_count": 12,
   "metadata": {},
   "outputs": [
    {
     "name": "stdout",
     "output_type": "stream",
     "text": [
      "hello world\r\n"
     ]
    }
   ],
   "source": [
    "!cat temp.txt"
   ]
  },
  {
   "cell_type": "code",
   "execution_count": 14,
   "metadata": {},
   "outputs": [],
   "source": [
    "for x in range(10):\n",
    "    with open('temp.txt', 'a') as f:\n",
    "        f.write(f'{x}\\n')"
   ]
  },
  {
   "cell_type": "code",
   "execution_count": 15,
   "metadata": {},
   "outputs": [
    {
     "name": "stdout",
     "output_type": "stream",
     "text": [
      "hello world\r\n",
      "1\r\n",
      "0\r\n",
      "1\r\n",
      "2\r\n",
      "3\r\n",
      "4\r\n",
      "5\r\n",
      "6\r\n",
      "7\r\n",
      "8\r\n",
      "9\r\n"
     ]
    }
   ],
   "source": [
    "!cat temp.txt"
   ]
  },
  {
   "cell_type": "markdown",
   "metadata": {},
   "source": [
    "## Exercise\n",
    "\n",
    "__copied from 10x.org.il__\n",
    "\n",
    "A robot on an exploration mission receives command file in the following fashion:\n",
    "\n",
    "```\n",
    "North 100\n",
    "East 200\n",
    "South 20\n",
    "East 50\n",
    "North 100\n",
    "West 30\n",
    "```\n",
    "\n",
    "Each command has a direction (North, East, South, West) and a distance (a number, in meters). You have to write a program that remembers its position and returns its horizontal and vertical distance from the base station (the starting point).\n",
    "\n",
    "For example, for the commands above the result will be (220,180).\n",
    "\n",
    "Write a function that receives a filename, opens it, parses the commands and returns the distance in x and y from home."
   ]
  },
  {
   "cell_type": "code",
   "execution_count": null,
   "metadata": {
    "collapsed": true
   },
   "outputs": [],
   "source": [
    "def parse_commands(filename):\n",
    "    x, y = 0, 0\n",
    "    # --- WRITE YOUR CODE HERE --- #\n",
    "\n",
    "    # ---------------------------- #\n",
    "    return x, y\n",
    "\n",
    "\n",
    "assert parse_commands('data/robot_journey.txt') == (220, 180)"
   ]
  }
 ],
 "metadata": {
  "kernelspec": {
   "display_name": "Python 3",
   "language": "python",
   "name": "python3"
  },
  "language_info": {
   "codemirror_mode": {
    "name": "ipython",
    "version": 3
   },
   "file_extension": ".py",
   "mimetype": "text/x-python",
   "name": "python",
   "nbconvert_exporter": "python",
   "pygments_lexer": "ipython3",
   "version": "3.7.2"
  }
 },
 "nbformat": 4,
 "nbformat_minor": 2
}
