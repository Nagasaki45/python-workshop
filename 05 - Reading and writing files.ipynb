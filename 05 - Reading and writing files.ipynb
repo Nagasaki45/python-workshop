{
 "cells": [
  {
   "cell_type": "markdown",
   "metadata": {},
   "source": [
    "# Reading and writing files"
   ]
  },
  {
   "cell_type": "markdown",
   "metadata": {},
   "source": [
    "Reading: the entire file, line by line, splitted by lines (with and without `\\n`)"
   ]
  },
  {
   "cell_type": "code",
   "execution_count": 1,
   "metadata": {},
   "outputs": [
    {
     "name": "stdout",
     "output_type": "stream",
     "text": [
      "North 100\n",
      "East 200\n",
      "South 20\n",
      "East 50\n",
      "North 100\n",
      "West 30\n",
      "\n"
     ]
    }
   ],
   "source": [
    "with open('data/robot_journey.txt') as f:\n",
    "    print(f.read())"
   ]
  },
  {
   "cell_type": "markdown",
   "metadata": {},
   "source": [
    "Writing files and appending to file"
   ]
  },
  {
   "cell_type": "code",
   "execution_count": null,
   "metadata": {},
   "outputs": [],
   "source": []
  },
  {
   "cell_type": "markdown",
   "metadata": {},
   "source": [
    "## Exercise\n",
    "\n",
    "__copied from 10x.org.il__\n",
    "\n",
    "A robot on an exploration mission receives command file in the following fashion:\n",
    "\n",
    "```\n",
    "North 100\n",
    "East 200\n",
    "South 20\n",
    "East 50\n",
    "North 100\n",
    "West 30\n",
    "```\n",
    "\n",
    "Each command has a direction (North, East, South, West) and a distance (a number, in meters). You have to write a program that remembers its position and returns its horizontal and vertical distance from the base station (the starting point).\n",
    "\n",
    "For example, for the commands above the result will be (220,180).\n",
    "\n",
    "Write a function that receives a filename, opens it, parses the commands and returns the distance in x and y from home."
   ]
  },
  {
   "cell_type": "code",
   "execution_count": null,
   "metadata": {
    "collapsed": true
   },
   "outputs": [],
   "source": [
    "def parse_commands(filename):\n",
    "    x, y = 0, 0\n",
    "    # --- WRITE YOUR CODE HERE --- #\n",
    "\n",
    "    # ---------------------------- #\n",
    "    return x, y\n",
    "\n",
    "\n",
    "assert parse_commands('data/robot_journey.txt') == (220, 180)"
   ]
  }
 ],
 "metadata": {
  "kernelspec": {
   "display_name": "Python 3",
   "language": "python",
   "name": "python3"
  },
  "language_info": {
   "codemirror_mode": {
    "name": "ipython",
    "version": 3
   },
   "file_extension": ".py",
   "mimetype": "text/x-python",
   "name": "python",
   "nbconvert_exporter": "python",
   "pygments_lexer": "ipython3",
   "version": "3.7.2"
  }
 },
 "nbformat": 4,
 "nbformat_minor": 2
}
