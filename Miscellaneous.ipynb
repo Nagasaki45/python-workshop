{
 "cells": [
  {
   "cell_type": "markdown",
   "metadata": {},
   "source": [
    "# Philosophy break"
   ]
  },
  {
   "cell_type": "code",
   "execution_count": null,
   "metadata": {},
   "outputs": [],
   "source": [
    "import this"
   ]
  },
  {
   "cell_type": "markdown",
   "metadata": {},
   "source": [
    "[PEP 8](https://www.python.org/dev/peps/pep-0008/) - Style Guide for Python Code"
   ]
  },
  {
   "cell_type": "markdown",
   "metadata": {},
   "source": [
    "# Where to go next?\n",
    "\n",
    "## Python part\n",
    "\n",
    "- Learn how to run code from the command line with `python my_script.py`.\n",
    "- Learn how to install external packages with pip / conda / anaconda GUI.\n",
    "- Know what's in the [standard library](https://docs.python.org/3/library/index.html).\n",
    "- Familiarize with sets. They are important data structures that are used all the time.\n",
    "- Check out list and dict comprehensions.\n",
    "\n",
    "## pandas part\n",
    "\n",
    "pandas is huge! We didn't cover many things. Among the more important parts that you should be aware of there are:\n",
    "\n",
    "- Resampling the time units of timed data.\n",
    "\n",
    "After pandas you will probably need some [numpy](http://www.numpy.org/) and [matplotlib](https://matplotlib.org/). The [scipy lecture notes](http://www.scipy-lectures.org/) will help you with that. [See my blog for more details](http://blog.tomgurion.me/getting-started-with-python.html)."
   ]
  }
 ],
 "metadata": {
  "kernelspec": {
   "display_name": "Python 3",
   "language": "python",
   "name": "python3"
  },
  "language_info": {
   "codemirror_mode": {
    "name": "ipython",
    "version": 3
   },
   "file_extension": ".py",
   "mimetype": "text/x-python",
   "name": "python",
   "nbconvert_exporter": "python",
   "pygments_lexer": "ipython3",
   "version": "3.7.2"
  }
 },
 "nbformat": 4,
 "nbformat_minor": 2
}
