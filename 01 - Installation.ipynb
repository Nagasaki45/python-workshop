{
 "cells": [
  {
   "cell_type": "markdown",
   "metadata": {},
   "source": [
    "# Installing python\n",
    "\n",
    "In the terminal, make sure you have python >= 3.6 installed. Check it by running\n",
    "\n",
    "```bash\n",
    "$ python --version\n",
    "```\n",
    "\n",
    "Many systems have both python 2 and python 3 installed side by side. If the above reports version 2 try\n",
    "\n",
    "```bash\n",
    "$ python3 --version\n",
    "```\n",
    "\n",
    "If it works, use `python3` instead of `python` from now on.\n",
    "\n",
    "If it still doesn't work follow the [official instructions to download / install python 3](https://www.python.org/)."
   ]
  },
  {
   "cell_type": "markdown",
   "metadata": {},
   "source": [
    "# Virtual environments with `venv`\n",
    "\n",
    "We use [`venv`](https://docs.python.org/3/library/venv.html) to create virtual environments (python version + libraries).\n",
    "\n",
    "This will create a new folder, which is a new virtual environment, in the current directory.\n",
    "```bash\n",
    "$ python -m venv my_first_virtual_environment\n",
    "```\n",
    "\n",
    "You can use whatever name you want for the environment. Personally, I always use ``env``.\n",
    "\n",
    "To activate your environment\n",
    "\n",
    "```bash\n",
    "$ source my_first_virtual_environment/bin/activate\n",
    "```\n",
    "\n",
    "Now when you run python it will use the python version and dependencies from this environment. Check that with\n",
    "\n",
    "```bash\n",
    "$ which python\n",
    "```\n",
    "\n",
    "You'll have to activate the environment every time you want to run the project used with this environment.\n",
    "\n",
    "To exit the environment\n",
    "\n",
    "```bash\n",
    "$ deactivate\n",
    "```\n",
    "\n",
    "**Question: How to delete an environment?**"
   ]
  },
  {
   "cell_type": "markdown",
   "metadata": {},
   "source": [
    "# Installing packages with `pip`\n",
    "\n",
    "`pip` is the official python package manager. It installs packages from the [Python Package Index (PyPI)](https://pypi.org/). You can browse PyPI manually in the browser.\n",
    "\n",
    "Inside your virtual environment.\n",
    "\n",
    "```bash\n",
    "$ which pip  # To convince you that we use pip from the virtual environment\n",
    "$ pip install notebook  # Because we need the notebook library\n",
    "$ pip install --upgrade pip  # If pip complains about its version\n",
    "$ pip freeze  # To see the libraries currently installed in this environment\n",
    "$ pip freeze > requirements.txt  # > write the the output to a file\n",
    "$ pip install -r requirements.txt  # This is a common way to install all libraries from a file\n",
    "```"
   ]
  },
  {
   "cell_type": "markdown",
   "metadata": {},
   "source": [
    "# Starting the jupyter notebook\n",
    "\n",
    "Let's try to run the jupyter notebook now (the `notebook` library) with\n",
    "\n",
    "```bash\n",
    "$ jupyter notebook\n",
    "```\n",
    "\n",
    "Sometimes it fail to start directly after installation. Try to deactivate and activate the environment again.\n",
    "\n",
    "In your browser, go to [`http://localhost:8888`](http://localhost:8888) and enter the token shown on your terminal window."
   ]
  }
 ],
 "metadata": {
  "kernelspec": {
   "display_name": "Python 3",
   "language": "python",
   "name": "python3"
  },
  "language_info": {
   "codemirror_mode": {
    "name": "ipython",
    "version": 3
   },
   "file_extension": ".py",
   "mimetype": "text/x-python",
   "name": "python",
   "nbconvert_exporter": "python",
   "pygments_lexer": "ipython3",
   "version": "3.8.0"
  }
 },
 "nbformat": 4,
 "nbformat_minor": 2
}
