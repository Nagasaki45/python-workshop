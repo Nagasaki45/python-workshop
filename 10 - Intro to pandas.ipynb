{
 "cells": [
  {
   "cell_type": "markdown",
   "metadata": {},
   "source": [
    "# Intro to pandas\n",
    "\n",
    "## Resources\n",
    "\n",
    "- [pandas documentation](https://pandas.pydata.org/pandas-docs/stable/).\n",
    "- [Python for Data Analysis by Wes McKinney](http://shop.oreilly.com/product/0636920050896.do): the pandas bible, [but not the best resource to learn pandas if you are just starting with python](http://blog.tomgurion.me/python-readings.html).\n",
    "- [Python Data Science Handbook by Jake Vanderplas](https://github.com/jakevdp/PythonDataScienceHandbook) (chapter 3).\n",
    "- [FiveThirtyEight datasets](https://github.com/fivethirtyeight/data/).\n",
    "- [seaborn documentation](https://seaborn.pydata.org/index.html), and expecially its [excelent tutorial](https://seaborn.pydata.org/tutorial.html).\n",
    "- [Choosing the right scikit-learn estimator](http://scikit-learn.org/stable/tutorial/machine_learning_map/index.html).\n",
    "\n",
    "## 4 hours agenda\n",
    "\n",
    "- Why?\n",
    "    - pandas\n",
    "    - seaborn\n",
    "- Organising\n",
    "    - The `pandas.DataFrame` object\n",
    "    - Inspecting DataFrames\n",
    "    - Selecting\n",
    "    - DataFrame operations\n",
    "    - *Exercise: Let's clean our comics dataset!*\n",
    "    - Handling missing data\n",
    "    - *Exercises*\n",
    "- **20 minutes break**\n",
    "- Aggregating\n",
    "    - Basic summarizing and descriptive statistics\n",
    "    - `groupby`\n",
    "    - *Exercise*\n",
    "- Visualizing\n",
    "    - Let's recreate the plots from the FiveThirtyEight report\n",
    "    - *Exercise*\n",
    "    - Some seaborn\n",
    "    - *Semi exercise*\n",
    "- **10 minutes break**\n",
    "- Analysing\n",
    "    - Stats\n",
    "    - Machine learning\n",
    "\n",
    "## Why?\n",
    "\n",
    "- All of the reasons in the \"why python?\"\n",
    "\n",
    "### pandas\n",
    "\n",
    "- Relatively easy to use, and very capable, alternative to spreadsheets.\n",
    "- Well integrated with the python scientific ecosystem (e.g. based on numpy, seaborn uses it).\n",
    "- Lots of resources.\n",
    "\n",
    "### seaborn\n",
    "\n",
    "- Easy to use plotting library for statistic applications.\n",
    "- Works well with pandas data structures.\n",
    "- Based on matplotlib, so everything can be customized if needed."
   ]
  }
 ],
 "metadata": {
  "kernelspec": {
   "display_name": "Python 3",
   "language": "python",
   "name": "python3"
  },
  "language_info": {
   "codemirror_mode": {
    "name": "ipython",
    "version": 3
   },
   "file_extension": ".py",
   "mimetype": "text/x-python",
   "name": "python",
   "nbconvert_exporter": "python",
   "pygments_lexer": "ipython3",
   "version": "3.6.3"
  }
 },
 "nbformat": 4,
 "nbformat_minor": 2
}
