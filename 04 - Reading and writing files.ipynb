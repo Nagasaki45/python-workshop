{
 "cells": [
  {
   "cell_type": "markdown",
   "metadata": {},
   "source": [
    "# Reading and writing files"
   ]
  },
  {
   "cell_type": "markdown",
   "metadata": {},
   "source": [
    "Reading: the entire file, line by line, splitted by lines (with and without `\\n`)"
   ]
  },
  {
   "cell_type": "code",
   "execution_count": null,
   "metadata": {},
   "outputs": [],
   "source": [
    "with open('data/robot_journey.txt') as f:\n",
    "    print(f.read())"
   ]
  },
  {
   "cell_type": "markdown",
   "metadata": {},
   "source": [
    "Writing files and appending to file"
   ]
  },
  {
   "cell_type": "code",
   "execution_count": null,
   "metadata": {
    "collapsed": true
   },
   "outputs": [],
   "source": []
  },
  {
   "cell_type": "markdown",
   "metadata": {},
   "source": [
    "## Exercise\n",
    "\n",
    "__copied from 10x.org.il__\n",
    "\n",
    "A robot on an exploration mission receives command file in the following fashion:\n",
    "\n",
    "```\n",
    "North 100\n",
    "East 200\n",
    "South 20\n",
    "East 50\n",
    "North 100\n",
    "West 30\n",
    "```\n",
    "\n",
    "Each command has a direction (North, East, South, West) and a distance (a number, in meters). You have to write a program that remembers its position and returns its horizontal and vertical distance from the base station (the starting point).\n",
    "\n",
    "For example, for the commands above the result will be (220,180).\n",
    "\n",
    "Write a function that receives a filename, opens it, parses the commands and returns the distance in x and y from home."
   ]
  },
  {
   "cell_type": "code",
   "execution_count": null,
   "metadata": {
    "collapsed": true
   },
   "outputs": [],
   "source": [
    "def parse_commands(filename):\n",
    "    x, y = 0, 0\n",
    "    # --- WRITE YOUR CODE HERE --- #\n",
    "\n",
    "    # ---------------------------- #\n",
    "    return x, y\n",
    "\n",
    "\n",
    "assert parse_commands('data/robot_journey.txt') == (220, 180)"
   ]
  },
  {
   "cell_type": "markdown",
   "metadata": {},
   "source": [
    "## *Advanced exercise (optional)*\n",
    "\n",
    "Write a function that accepts a name of an author, reads the `data/references.bib` file, and return a dictionary with an histogram of the papers he wrote by year (years are keys, values are the number of papers).\n",
    "\n",
    "**If you need take a look at `04_advanced_exercise_solution.py`.** "
   ]
  },
  {
   "cell_type": "code",
   "execution_count": null,
   "metadata": {
    "collapsed": true
   },
   "outputs": [],
   "source": [
    "# Some test data\n",
    "\n",
    "wittgensteins_book = '''\n",
    "@book{wittgenstein2010philosophical,\n",
    "  title=\"Philosophical investigations\",\n",
    "  author=\"Wittgenstein, Ludwig\",\n",
    "  year=\"2010\",\n",
    "  publisher=\"John Wiley \\& Sons\"\n",
    "}\n",
    "'''.strip()\n",
    "\n",
    "einsteins_paper = '''\n",
    "@article{einstein1935can,\n",
    "  title=\"Can quantum-mechanical description of physical reality be considered complete?\",\n",
    "  author=\"Einstein, Albert and Podolsky, Boris and Rosen, Nathan\",\n",
    "  journal=\"Physical review\",\n",
    "  volume=\"47\",\n",
    "  number=\"10\",\n",
    "  pages=\"777\",\n",
    "  year=\"1935\",\n",
    "  publisher=\"APS\"\n",
    "}\n",
    "'''.strip()"
   ]
  },
  {
   "cell_type": "code",
   "execution_count": null,
   "metadata": {},
   "outputs": [],
   "source": [
    "# Hints: split by lines and iterate. Find the 'author' line\n",
    "# and return whatever between the first double quote and the\n",
    "# first comma.\n",
    "def item_author(item):\n",
    "    # --- WRITE YOUR CODE HERE --- #\n",
    "\n",
    "    # ---------------------------- #\n",
    "\n",
    "\n",
    "assert item_author(wittgensteins_book) == 'Wittgenstein'\n",
    "assert item_author(einsteins_paper) == 'Einstein'"
   ]
  },
  {
   "cell_type": "code",
   "execution_count": null,
   "metadata": {},
   "outputs": [],
   "source": [
    "def item_year(item):\n",
    "    # --- WRITE YOUR CODE HERE --- #\n",
    "\n",
    "    # ---------------------------- #\n",
    "\n",
    "\n",
    "assert item_year(wittgensteins_book) == 2010\n",
    "assert item_year(einsteins_paper) == 1935"
   ]
  },
  {
   "cell_type": "code",
   "execution_count": null,
   "metadata": {},
   "outputs": [],
   "source": [
    "# Hints: read the content, assume that you can split items by @.\n",
    "# Use the counter from the discussion about dictionaries to create\n",
    "# the histogram.\n",
    "def author_summary(name):\n",
    "    histogram = {}\n",
    "\n",
    "    # --- WRITE YOUR CODE HERE --- #\n",
    "    \n",
    "    # ---------------------------- #\n",
    "\n",
    "    return histogram\n",
    "\n",
    "\n",
    "assert author_summary('Bailenson') == {2002: 1, 2004: 1, 2005: 1, 2006: 2, 2008: 3}\n",
    "assert author_summary('Morency') == {2008: 1, 2009: 1}\n",
    "assert author_summary('Gratch') == {2006: 1, 2007: 1}"
   ]
  },
  {
   "cell_type": "markdown",
   "metadata": {},
   "source": [
    "*Note: for real life porpuses use a library.*"
   ]
  }
 ],
 "metadata": {
  "kernelspec": {
   "display_name": "Python 3",
   "language": "python",
   "name": "python3"
  },
  "language_info": {
   "codemirror_mode": {
    "name": "ipython",
    "version": 3
   },
   "file_extension": ".py",
   "mimetype": "text/x-python",
   "name": "python",
   "nbconvert_exporter": "python",
   "pygments_lexer": "ipython3",
   "version": "3.6.3"
  }
 },
 "nbformat": 4,
 "nbformat_minor": 2
}
