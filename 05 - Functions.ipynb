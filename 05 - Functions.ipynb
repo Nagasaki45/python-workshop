{
 "cells": [
  {
   "cell_type": "markdown",
   "metadata": {},
   "source": [
    "# Functions"
   ]
  },
  {
   "cell_type": "markdown",
   "metadata": {},
   "source": [
    "## [Built-in functions](https://docs.python.org/3/library/functions.html)"
   ]
  },
  {
   "cell_type": "markdown",
   "metadata": {},
   "source": [
    "## Writing functions"
   ]
  },
  {
   "cell_type": "code",
   "execution_count": null,
   "metadata": {},
   "outputs": [],
   "source": []
  },
  {
   "cell_type": "markdown",
   "metadata": {},
   "source": [
    "*Notes: `print` and `return` are completely different things!*"
   ]
  },
  {
   "cell_type": "markdown",
   "metadata": {},
   "source": [
    "All functions return."
   ]
  },
  {
   "cell_type": "code",
   "execution_count": null,
   "metadata": {},
   "outputs": [],
   "source": []
  },
  {
   "cell_type": "markdown",
   "metadata": {},
   "source": [
    "## Keyword arguments"
   ]
  },
  {
   "cell_type": "markdown",
   "metadata": {},
   "source": [
    "Default values"
   ]
  },
  {
   "cell_type": "code",
   "execution_count": null,
   "metadata": {},
   "outputs": [],
   "source": []
  },
  {
   "cell_type": "markdown",
   "metadata": {},
   "source": [
    "Calling functions with keyword arguments"
   ]
  },
  {
   "cell_type": "code",
   "execution_count": null,
   "metadata": {},
   "outputs": [],
   "source": []
  },
  {
   "cell_type": "markdown",
   "metadata": {},
   "source": [
    "## Higher order functions"
   ]
  },
  {
   "cell_type": "code",
   "execution_count": null,
   "metadata": {},
   "outputs": [],
   "source": []
  },
  {
   "cell_type": "markdown",
   "metadata": {},
   "source": [
    "`sorted`"
   ]
  },
  {
   "cell_type": "code",
   "execution_count": null,
   "metadata": {},
   "outputs": [],
   "source": []
  },
  {
   "cell_type": "markdown",
   "metadata": {},
   "source": [
    "# Scope\n",
    "\n",
    "The LEGB rule: local -> enclosed -> global -> built-in."
   ]
  },
  {
   "cell_type": "code",
   "execution_count": null,
   "metadata": {},
   "outputs": [],
   "source": []
  },
  {
   "cell_type": "markdown",
   "metadata": {},
   "source": [
    "*Note: lower scopes can't modify higher scopes.*"
   ]
  },
  {
   "cell_type": "code",
   "execution_count": null,
   "metadata": {},
   "outputs": [],
   "source": []
  },
  {
   "cell_type": "markdown",
   "metadata": {},
   "source": [
    "## `assert`"
   ]
  },
  {
   "cell_type": "code",
   "execution_count": null,
   "metadata": {},
   "outputs": [],
   "source": [
    "def add(x, y):\n",
    "    return x + y\n",
    "\n",
    "assert add(1, 2) == 3\n",
    "assert add(-10, 10) == 0"
   ]
  },
  {
   "cell_type": "markdown",
   "metadata": {},
   "source": [
    "## *Exercise*\n",
    "\n",
    "__copied from 10x.org.il__\n",
    "\n",
    "Create a function that checks if a string is a valid IPv4 address: composed from 4 numbers between 0 and 255, separated by a dot. Hint: use the `split` and `isdigit` string methods."
   ]
  },
  {
   "cell_type": "code",
   "execution_count": null,
   "metadata": {},
   "outputs": [],
   "source": [
    "def is_ipv4(address):\n",
    "    # --- WRITE YOUR CODE HERE --- #\n",
    "    \n",
    "    # ---------------------------- #\n",
    "    \n",
    "\n",
    "assert not is_ipv4('')\n",
    "assert not is_ipv4('a')\n",
    "assert not is_ipv4('a.a.a.a')\n",
    "assert not is_ipv4('...')\n",
    "assert not is_ipv4('1.1.9.e')\n",
    "assert not is_ipv4('1.1.1.300')\n",
    "assert not is_ipv4('1.1.1.-1')\n",
    "assert is_ipv4('1.1.1.1')\n",
    "assert is_ipv4('168.0.0.1')"
   ]
  },
  {
   "cell_type": "markdown",
   "metadata": {},
   "source": [
    "## *Exercise*\n",
    "\n",
    "__copied from 10x.org.il__\n",
    "\n",
    "Write a function that profile (measure the performance) of functions by executing them `times` times and report min, max, and average execution times."
   ]
  },
  {
   "cell_type": "code",
   "execution_count": 1,
   "metadata": {},
   "outputs": [
    {
     "name": "stdout",
     "output_type": "stream",
     "text": [
      "None\n"
     ]
    }
   ],
   "source": [
    "import time\n",
    "\n",
    "def profile(f, times=100):\n",
    "    \"\"\"\n",
    "    executes `f` `times` times and returns a dictionary with the following info:\n",
    "      * 'min': length of quickest run in seconds\n",
    "      * 'max': length of slowest run in seconds\n",
    "      * 'avg': average time it took to run f\n",
    "     \"\"\"\n",
    "    # --- WRITE YOUR CODE HERE --- #\n",
    "    \n",
    "    # ---------------------------- #\n",
    "\n",
    "\n",
    "def my_function():\n",
    "    time.sleep(random.random() * 0.01)\n",
    "\n",
    "\n",
    "print(profile(my_function))"
   ]
  }
 ],
 "metadata": {
  "kernelspec": {
   "display_name": "Python 3",
   "language": "python",
   "name": "python3"
  },
  "language_info": {
   "codemirror_mode": {
    "name": "ipython",
    "version": 3
   },
   "file_extension": ".py",
   "mimetype": "text/x-python",
   "name": "python",
   "nbconvert_exporter": "python",
   "pygments_lexer": "ipython3",
   "version": "3.8.0"
  }
 },
 "nbformat": 4,
 "nbformat_minor": 2
}
