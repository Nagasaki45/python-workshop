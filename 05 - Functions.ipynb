{
 "cells": [
  {
   "cell_type": "markdown",
   "metadata": {},
   "source": [
    "# Functions"
   ]
  },
  {
   "cell_type": "markdown",
   "metadata": {},
   "source": [
    "## [Built-in functions](https://docs.python.org/3/library/functions.html)"
   ]
  },
  {
   "cell_type": "markdown",
   "metadata": {},
   "source": [
    "## Writing functions"
   ]
  },
  {
   "cell_type": "code",
   "execution_count": 4,
   "metadata": {},
   "outputs": [],
   "source": [
    "def move_a_motor(angle):\n",
    "    pass"
   ]
  },
  {
   "cell_type": "markdown",
   "metadata": {},
   "source": [
    "*Notes: `print` and `return` are completely different things!*"
   ]
  },
  {
   "cell_type": "markdown",
   "metadata": {},
   "source": [
    "All functions return."
   ]
  },
  {
   "cell_type": "code",
   "execution_count": 7,
   "metadata": {},
   "outputs": [
    {
     "name": "stdout",
     "output_type": "stream",
     "text": [
      "None\n"
     ]
    }
   ],
   "source": [
    "return_val = move_a_motor(360)\n",
    "print(return_val)"
   ]
  },
  {
   "cell_type": "markdown",
   "metadata": {},
   "source": [
    "## Keyword arguments"
   ]
  },
  {
   "cell_type": "markdown",
   "metadata": {},
   "source": [
    "Default values"
   ]
  },
  {
   "cell_type": "markdown",
   "metadata": {},
   "source": [
    "Calling functions with keyword arguments"
   ]
  },
  {
   "cell_type": "code",
   "execution_count": 16,
   "metadata": {},
   "outputs": [
    {
     "data": {
      "text/plain": [
       "13"
      ]
     },
     "execution_count": 16,
     "metadata": {},
     "output_type": "execute_result"
    }
   ],
   "source": [
    "add(1, z=10, y=2)"
   ]
  },
  {
   "cell_type": "markdown",
   "metadata": {},
   "source": [
    "## Higher order functions"
   ]
  },
  {
   "cell_type": "code",
   "execution_count": 21,
   "metadata": {},
   "outputs": [
    {
     "data": {
      "text/plain": [
       "['this', 'is', 'a', 'list', 'of', 'strings']"
      ]
     },
     "execution_count": 21,
     "metadata": {},
     "output_type": "execute_result"
    }
   ],
   "source": [
    "l = 'this is a list of strings'.split()\n",
    "l"
   ]
  },
  {
   "cell_type": "markdown",
   "metadata": {},
   "source": [
    "`sorted`"
   ]
  },
  {
   "cell_type": "code",
   "execution_count": 28,
   "metadata": {},
   "outputs": [
    {
     "data": {
      "text/plain": [
       "['a', 'of', 'this', 'list', 'is', 'strings']"
      ]
     },
     "execution_count": 28,
     "metadata": {},
     "output_type": "execute_result"
    }
   ],
   "source": [
    "def second_letter(word):\n",
    "    if len(word) >= 2:\n",
    "        return word[1]\n",
    "    return word\n",
    "\n",
    "sorted(l, key=second_letter)"
   ]
  },
  {
   "cell_type": "code",
   "execution_count": 30,
   "metadata": {},
   "outputs": [],
   "source": [
    "l2 = l"
   ]
  },
  {
   "cell_type": "code",
   "execution_count": 32,
   "metadata": {},
   "outputs": [],
   "source": [
    "l2.append('XXX')"
   ]
  },
  {
   "cell_type": "code",
   "execution_count": 33,
   "metadata": {},
   "outputs": [
    {
     "data": {
      "text/plain": [
       "['this', 'is', 'a', 'list', 'of', 'strings', 'XXX']"
      ]
     },
     "execution_count": 33,
     "metadata": {},
     "output_type": "execute_result"
    }
   ],
   "source": [
    "l\n",
    "def do_something_with_list(l):\n",
    "    copy = l.copy()\n",
    "    copy\n",
    "    return copy\n",
    "\n",
    "l = do_something_with_list(l)\n",
    "l"
   ]
  },
  {
   "cell_type": "markdown",
   "metadata": {},
   "source": [
    "# Scope\n",
    "\n",
    "The LEGB rule: local -> enclosed -> global -> built-in."
   ]
  },
  {
   "cell_type": "code",
   "execution_count": 41,
   "metadata": {},
   "outputs": [
    {
     "data": {
      "text/plain": [
       "1"
      ]
     },
     "execution_count": 41,
     "metadata": {},
     "output_type": "execute_result"
    }
   ],
   "source": [
    "print = 1\n",
    "print"
   ]
  },
  {
   "cell_type": "code",
   "execution_count": 42,
   "metadata": {},
   "outputs": [
    {
     "name": "stdout",
     "output_type": "stream",
     "text": [
      "hello\n"
     ]
    }
   ],
   "source": [
    "del print\n",
    "print('hello')"
   ]
  },
  {
   "cell_type": "markdown",
   "metadata": {},
   "source": [
    "*Note: lower scopes can't modify higher scopes.*"
   ]
  },
  {
   "cell_type": "code",
   "execution_count": null,
   "metadata": {},
   "outputs": [],
   "source": []
  },
  {
   "cell_type": "markdown",
   "metadata": {},
   "source": [
    "## `assert`"
   ]
  },
  {
   "cell_type": "code",
   "execution_count": 47,
   "metadata": {},
   "outputs": [],
   "source": [
    "def add(x, y):\n",
    "    return x + y\n",
    "\n",
    "assert add(1, 2) == 3\n",
    "assert add(-10, 10) == 0"
   ]
  },
  {
   "cell_type": "markdown",
   "metadata": {},
   "source": [
    "## *Exercise*\n",
    "\n",
    "__copied from 10x.org.il__\n",
    "\n",
    "Create a function that checks if a string is a valid IPv4 address: composed from 4 numbers between 0 and 255, separated by a dot. Hint: use the `split` and `isdigit` string methods."
   ]
  },
  {
   "cell_type": "code",
   "execution_count": null,
   "metadata": {},
   "outputs": [],
   "source": [
    "def is_ipv4(address):\n",
    "    # --- WRITE YOUR CODE HERE --- #\n",
    "    \n",
    "    # ---------------------------- #\n",
    "    \n",
    "\n",
    "assert not is_ipv4('')\n",
    "assert not is_ipv4('a')\n",
    "assert not is_ipv4('a.a.a.a')\n",
    "assert not is_ipv4('...')\n",
    "assert not is_ipv4('1.1.9.e')\n",
    "assert not is_ipv4('1.1.1.300')\n",
    "assert not is_ipv4('1.1.1.-1')\n",
    "assert is_ipv4('1.1.1.1')\n",
    "assert is_ipv4('168.0.0.1')"
   ]
  },
  {
   "cell_type": "markdown",
   "metadata": {},
   "source": [
    "## *Exercise*\n",
    "\n",
    "__copied from 10x.org.il__\n",
    "\n",
    "Write a function that profile (measure the performance) of functions by executing them `times` times and report min, max, and average execution times.\n",
    "\n",
    "*Notes: `min`, `max` and `sum` are built-in functions. `time.time()` returns the current time in seconds (since 1970).*"
   ]
  },
  {
   "cell_type": "code",
   "execution_count": 53,
   "metadata": {},
   "outputs": [
    {
     "data": {
      "text/plain": [
       "{'min': 7.2479248046875e-05,\n",
       " 'max': 0.01004171371459961,\n",
       " 'avg': 0.005420520305633545}"
      ]
     },
     "execution_count": 53,
     "metadata": {},
     "output_type": "execute_result"
    }
   ],
   "source": [
    "import time\n",
    "import random\n",
    "\n",
    "\n",
    "def profile(f, times=100):\n",
    "    \"\"\"\n",
    "    executes `f` `times` times and returns a dictionary with the following info:\n",
    "     * 'min': quickest run in seconds\n",
    "     * 'max': slowest run in seconds\n",
    "     * 'avg': average time it took to run f\n",
    "    \"\"\"\n",
    "    # --- WRITE YOUR CODE HERE --- #\n",
    "    execution_times = []\n",
    "    for _ in range(times):\n",
    "        start = time.time()\n",
    "        f()\n",
    "        end = time.time()\n",
    "        execution_times.append(end - start)\n",
    "        \n",
    "    return {\n",
    "        'min': min(execution_times),\n",
    "        'max': max(execution_times),\n",
    "        'avg': sum(execution_times) / len(execution_times),\n",
    "    }\n",
    "    # ---------------------------- #\n",
    "\n",
    "\n",
    "def my_function():\n",
    "    time.sleep(random.random() * 0.01)\n",
    "\n",
    "\n",
    "profile(my_function)"
   ]
  }
 ],
 "metadata": {
  "kernelspec": {
   "display_name": "Python 3",
   "language": "python",
   "name": "python3"
  },
  "language_info": {
   "codemirror_mode": {
    "name": "ipython",
    "version": 3
   },
   "file_extension": ".py",
   "mimetype": "text/x-python",
   "name": "python",
   "nbconvert_exporter": "python",
   "pygments_lexer": "ipython3",
   "version": "3.8.0"
  }
 },
 "nbformat": 4,
 "nbformat_minor": 2
}
