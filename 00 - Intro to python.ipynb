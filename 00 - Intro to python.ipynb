{
 "cells": [
  {
   "cell_type": "markdown",
   "metadata": {},
   "source": [
    "# Intro to python\n",
    "\n",
    "## My assumptions about you\n",
    "\n",
    "- Familiar with variables, if statements, while and for loops, basic data structures (e.g. arrays), and functions in at least one programming language.\n",
    "- Can use the terminal.\n",
    "- Will probably need this for your research.\n",
    "\n",
    "## Resources\n",
    "\n",
    "My goto recommendations for python learning resources are [in my blog](http://blog.tomgurion.me/getting-started-with-python.html).\n",
    "\n",
    "Also:\n",
    "\n",
    "- [The official documentation](https://docs.python.org/3/). There's a lot of content there. Use the search.\n",
    "- [Stackoverflow](https://stackoverflow.com/) for questions.\n",
    "\n",
    "## How\n",
    "\n",
    "- Me: demonstrating new(-ish) concepts.\n",
    "- You: solve an exercise.\n",
    "- Repeat.\n",
    "\n",
    "Ask questions!\n",
    "\n",
    "# Why?\n",
    "\n",
    "## Python\n",
    "\n",
    "- Easy to learn.\n",
    "- Lets you concentrate on solving your problems, instead of abstract computer science concepts or low level details.\n",
    "- Has a great ecosystem and great community.\n",
    "- Used everywhere, especially for data analysis (and web, and scripts, and many other things).\n",
    "\n",
    "### When not to use python\n",
    "\n",
    "- Multimedia.\n",
    "- Mobile.\n",
    "\n",
    "### 3 vs 2?\n",
    "\n",
    "[Python 3 is better than python 2 in any sense](http://blog.tomgurion.me/migrating-to-python3.html). Use python 2 only if you are going to use a library that doesn't support python 3. [All of the popular libraries support python 3](http://py3readiness.org/) and some [started to drop support for python 2](https://python3statement.org/).\n",
    "\n",
    "## [`venv`](https://docs.python.org/3/library/venv.html)\n",
    "\n",
    "Each project requirements are different. Linux and mac depends on python as well. Don't mess with the system wide python installation and dependencies! Virtual environments allow you to install specific and different dependencies for each project. There are a few different tools to create virtual environments (e.g. `conda`, `pipenv`, and `virtualenv`). We will use the built-in [`venv` module](https://docs.python.org/3/library/venv.html) for that.\n",
    "\n",
    "## [`pip`](https://pip.pypa.io/en/stable/)\n",
    "\n",
    "This is the python package manager. We will use it to install dependencies.\n",
    "\n",
    "## [Jupyter notebooks](https://jupyter.org/)\n",
    "\n",
    "It's an interactive notebook! Express your thoughts, write your code, and inspect the output, all in one place."
   ]
  }
 ],
 "metadata": {
  "kernelspec": {
   "display_name": "Python 3",
   "language": "python",
   "name": "python3"
  },
  "language_info": {
   "codemirror_mode": {
    "name": "ipython",
    "version": 3
   },
   "file_extension": ".py",
   "mimetype": "text/x-python",
   "name": "python",
   "nbconvert_exporter": "python",
   "pygments_lexer": "ipython3",
   "version": "3.8.0"
  }
 },
 "nbformat": 4,
 "nbformat_minor": 2
}
